{
 "cells": [
  {
   "cell_type": "code",
   "execution_count": 13,
   "id": "1ebfab27-814a-4e32-9622-2440f0664068",
   "metadata": {},
   "outputs": [
    {
     "name": "stdout",
     "output_type": "stream",
     "text": [
      "80\n"
     ]
    },
    {
     "data": {
      "text/plain": [
       "Text(0.5, 0, 'z')"
      ]
     },
     "execution_count": 13,
     "metadata": {},
     "output_type": "execute_result"
    },
    {
     "data": {
      "image/png": "[encoded data removed]",
      "text/plain": [
       "<Figure size 432x288 with 1 Axes>"
      ]
     },
     "metadata": {
      "needs_background": "light"
     },
     "output_type": "display_data"
    }
   ],
   "source": [
    "import sys\n",
    "import time\n",
    "sys.path.append('/home/asmohov/athena/vis/python/')\n",
    "sys.path.append('~/.local/lib/python3.8/site-packages/')\n",
    "sys.path.append('~/working')\n",
    "import numpy as np\n",
    "import matplotlib.pyplot as plt\n",
    "import matplotlib as mpl\n",
    "import athena_read\n",
    "\n",
    "\n",
    "\n",
    "\n",
    "#taken from complete_profiles.py, repurposed for vtk instaed of hdf5\n",
    "file_name = '../exp_den/rt.block0.out2.00000.vtk'\n",
    "def oned_rho_profile(file_name):\n",
    "    #print('current file is :'+file_name)\n",
    "    data = []\n",
    "    data = athena_read.vtk(file_name)\n",
    "    #print(np.shape(data[3]['rho']))\n",
    "    #for 8x8x1 scale height box, with cubic cells, needs to be adjusted for other sizes\n",
    "    #side_length = 1/len(data[])\n",
    "    #print(side_length,' side length')\n",
    "    #volume = side_length**3\n",
    "    \n",
    "    Nx = len(data[0])\n",
    "    Ny = len(data[1])\n",
    "    Nz = len(data[2])\n",
    "    #print(Nx,Ny,Nz)\n",
    "    #assuming 64x256x256, but should work for any \n",
    "    overall_length = Nx*Ny*Nz\n",
    "    data_arr = []\n",
    "    #change to z direction\n",
    "    #order for spatial coordinates and data outputs is backwards from each other i.e. xyz then zyx\n",
    "    #-1 is because spatial coordinates are face and rho is cell centered\n",
    "    rho_prof = np.sum(data[3]['rho'],axis=(1,2))/((Nx-1)*(Ny-1))\n",
    "    return(rho_prof)\n",
    "rhoprof=oned_rho_profile(file_name)\n",
    "print(len(rhoprof))\n",
    "\n",
    "data = athena_read.vtk(file_name)\n",
    "plt.plot(data[2][1:],rhoprof)\n",
    "plt.title('averaged $\\\\rho$ profile')\n",
    "plt.ylabel('$\\\\rho$')\n",
    "plt.xlabel('z')"
   ]
  },
  {
   "cell_type": "code",
   "execution_count": 14,
   "id": "8061e6e5-edc0-4eef-8f16-c9abfbb2a65b",
   "metadata": {},
   "outputs": [
    {
     "name": "stdout",
     "output_type": "stream",
     "text": [
      "passing step  0\n",
      "passing step  25\n",
      "passing step  50\n",
      "passing step  75\n",
      "passing step  100\n",
      "Beginning animation\n",
      "Run time is  15.905678987503052  seconds\n",
      "done\n"
     ]
    },
    {
     "data": {
      "image/png": "[encoded data removed]",
      "text/plain": [
       "<Figure size 432x288 with 1 Axes>"
      ]
     },
     "metadata": {
      "needs_background": "light"
     },
     "output_type": "display_data"
    }
   ],
   "source": [
    "#make animation of radial profile\n",
    "\n",
    "import time\n",
    "from matplotlib import pyplot as plt\n",
    "from celluloid import Camera as cam\n",
    "import ffmpeg\n",
    "\n",
    "\n",
    "fig = plt.figure()\n",
    "start = time.time()\n",
    "z=[]\n",
    "Cam = cam(fig)\n",
    "outrange = range(0,101)\n",
    "file_path = '../exp_den/'\n",
    "for i in outrange:\n",
    "        if z != []:\n",
    "            z.remove()\n",
    "        #plt.clf()\n",
    "        if i<10:\n",
    "            fname = file_path+'/rt.block0.out2.0000'+str(i)+'.vtk'\n",
    "        elif 9<i<100:\n",
    "            fname = file_path+'/rt.block0.out2.000'+str(i)+'.vtk'\n",
    "        elif 99<i<1000:\n",
    "            fname = file_path+'/rt.block0.out2.00'+str(i)+'.vtk'\n",
    "        else:\n",
    "            fname = file_path+'/rt.block0.out2.0'+str(i)+'.vtk'\n",
    "        if i%25 == 0:\n",
    "            print('passing step ',i)\n",
    "       #section to make plot\n",
    "        rhoprof=oned_rho_profile(fname)\n",
    "        #print(len(rhoprof))\n",
    "\n",
    "        data = athena_read.vtk(file_name)\n",
    "        plt.plot(data[2][1:],rhoprof,color='b')\n",
    "        plt.title('averaged $\\\\rho$ profile '+fname[-7:-4])\n",
    "        plt.ylabel('$\\\\rho$')\n",
    "        plt.xlabel('z')\n",
    "        #z =plt.colorbar(label=\"$\\\\rho/\\\\rho_0$\",location='right')\n",
    "        Cam.snap()\n",
    "\n",
    "print('Beginning animation')\n",
    "anim = Cam.animate(blit=False,interval=75)\n",
    "anim.save('empty_box_exp_den.mp4',dpi=700)\n",
    "print('Run time is ',(time.time()-start),' seconds' )\n",
    "\n",
    "print('done')"
   ]
  }
 ],
 "metadata": {
  "kernelspec": {
   "display_name": "Python 3 (ipykernel)",
   "language": "python",
   "name": "python3"
  },
  "language_info": {
   "codemirror_mode": {
    "name": "ipython",
    "version": 3
   },
   "file_extension": ".py",
   "mimetype": "text/x-python",
   "name": "python",
   "nbconvert_exporter": "python",
   "pygments_lexer": "ipython3",
   "version": "3.8.10"
  }
 },
 "nbformat": 4,
 "nbformat_minor": 5
}
